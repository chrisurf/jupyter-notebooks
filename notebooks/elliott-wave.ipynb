{
 "cells": [
  {
   "cell_type": "markdown",
   "metadata": {},
   "source": [
    "# Elliott Wave Theory Analysis with Python\n",
    "\n",
    "This Jupyter notebook demonstrates how to perform an Elliott Wave Theory analysis using Python. Elliott Wave Theory is a form of technical analysis that traders use to analyze financial market cycles and forecast market trends by identifying extremes in investor psychology, highs, and lows in prices.\n",
    "\n",
    "## Steps Covered in this Notebook:\n",
    "\n",
    "1. **Data Acquisition**:\n",
    "   - We use the `yfinance` library to fetch historical price data for a specified ticker symbol (e.g., AAPL).\n",
    "\n",
    "2. **Wave Identification**:\n",
    "   - We use the `scipy.signal.argrelextrema` function to identify local minima and maxima in the price series, which are potential points of Elliott Waves.\n",
    "\n",
    "3. **Visualization**:\n",
    "   - We plot the identified wave points on the price chart using `matplotlib` to visualize the Elliott Waves."
   ]
  },
  {
   "cell_type": "code",
   "execution_count": null,
   "metadata": {},
   "outputs": [],
   "source": [
    "%pip install scipy yfinance matplotlib pandas\n",
    "\n",
    "import yfinance as yf\n",
    "import matplotlib.pyplot as plt\n",
    "import pandas as pd\n",
    "from scipy.signal import argrelextrema\n",
    "import numpy as np"
   ]
  },
  {
   "cell_type": "code",
   "execution_count": null,
   "metadata": {},
   "outputs": [],
   "source": [
    "# Step 1: Get historical price data\n",
    "ticker = 'AAPL'\n",
    "data = yf.download(ticker, start=\"2020-01-01\", end=\"2023-01-01\")\n",
    "data['Date'] = data.index"
   ]
  },
  {
   "cell_type": "code",
   "execution_count": null,
   "metadata": {},
   "outputs": [],
   "source": [
    "# Step 2: Identify local maxima and minima (potential wave points)\n",
    "n = 5  # number of points to be checked before and after\n",
    "data['min'] = data.iloc[argrelextrema(data['Close'].values, np.less_equal, order=n)[0]]['Close']\n",
    "data['max'] = data.iloc[argrelextrema(data['Close'].values, np.greater_equal, order=n)[0]]['Close']"
   ]
  },
  {
   "cell_type": "code",
   "execution_count": null,
   "metadata": {},
   "outputs": [],
   "source": [
    "# Step 3: Plot the data and identified points\n",
    "plt.figure(figsize=(12,6))\n",
    "plt.plot(data['Date'], data['Close'], label='Close Price')\n",
    "plt.scatter(data['Date'], data['min'], label='Minima', color='red')\n",
    "plt.scatter(data['Date'], data['max'], label='Maxima', color='green')\n",
    "plt.title(f'Elliott Wave Analysis for {ticker}')\n",
    "plt.xlabel('Date')\n",
    "plt.ylabel('Price')\n",
    "plt.legend()\n",
    "plt.show()"
   ]
  }
 ],
 "metadata": {
  "kernelspec": {
   "display_name": "Python 3",
   "language": "python",
   "name": "python3"
  },
  "language_info": {
   "codemirror_mode": {
    "name": "ipython",
    "version": 3
   },
   "file_extension": ".py",
   "mimetype": "text/x-python",
   "name": "python",
   "nbconvert_exporter": "python",
   "pygments_lexer": "ipython3",
   "version": "3.12.4"
  }
 },
 "nbformat": 4,
 "nbformat_minor": 2
}
