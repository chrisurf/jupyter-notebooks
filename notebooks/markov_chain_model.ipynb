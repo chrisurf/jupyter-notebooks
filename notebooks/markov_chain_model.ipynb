{
 "cells": [
  {
   "cell_type": "markdown",
   "metadata": {},
   "source": [
    "# FX Trading Strategy Using Markov Chains\n",
    "This Jupyter notebook demonstrates a simple financial model using Markov Chains to identify profitable trading opportunities in the Forex (FX) market. \n",
    "The notebook includes the following steps:\n",
    "\n",
    "- Load Historical FX Data: We'll use the yfinance library to load historical data.\n",
    "- Define and Train the Markov Chain Model: We'll use PyTorch to build and train the model.\n",
    "- Backtest the Model: We'll use a different time frame to test the model.\n",
    "- Evaluate Performance: We'll evaluate the model's performance over the trading simulation."
   ]
  },
  {
   "cell_type": "code",
   "execution_count": null,
   "metadata": {},
   "outputs": [],
   "source": [
    "# Install necessary libraries\n",
    "%pip install yfinance pandas\n",
    "%pip install torch\n",
    "\n",
    "# Import libraries\n",
    "import yfinance as yf\n",
    "import pandas as pd\n",
    "import torch\n",
    "import numpy as np\n",
    "import matplotlib.pyplot as plt"
   ]
  },
  {
   "cell_type": "code",
   "execution_count": null,
   "metadata": {},
   "outputs": [],
   "source": [
    "# Load Historical FX Data\n",
    "def load_fx_data(ticker, start_date, end_date):\n",
    "    data = yf.download(ticker, start=start_date, end=end_date)\n",
    "    data['Return'] = data['Close'].pct_change()\n",
    "    data.dropna(inplace=True)\n",
    "    return data"
   ]
  },
  {
   "cell_type": "code",
   "execution_count": null,
   "metadata": {},
   "outputs": [],
   "source": [
    "# Example: Load EUR/USD data\n",
    "fx_data = load_fx_data('EURUSD=X', '2015-01-01', '2019-12-31')\n",
    "fx_data.head()"
   ]
  },
  {
   "cell_type": "code",
   "execution_count": null,
   "metadata": {},
   "outputs": [],
   "source": [
    "# Plot the closing prices\n",
    "plt.figure(figsize=(14, 7))\n",
    "plt.plot(fx_data.index, fx_data['Close'], label='Close Price')\n",
    "plt.title('EUR/USD Closing Prices')\n",
    "plt.xlabel('Date')\n",
    "plt.ylabel('Price')\n",
    "plt.legend()\n",
    "plt.show()"
   ]
  },
  {
   "cell_type": "code",
   "execution_count": null,
   "metadata": {},
   "outputs": [],
   "source": [
    "# Plot the daily returns\n",
    "plt.figure(figsize=(14, 7))\n",
    "plt.plot(fx_data.index, fx_data['Return'], label='Daily Return')\n",
    "plt.title('EUR/USD Daily Returns')\n",
    "plt.xlabel('Date')\n",
    "plt.ylabel('Daily Return')\n",
    "plt.legend()\n",
    "plt.show()"
   ]
  },
  {
   "cell_type": "code",
   "execution_count": null,
   "metadata": {},
   "outputs": [],
   "source": [
    "# Define the Markov Chain Model\n",
    "class MarkovChainModel:\n",
    "    def __init__(self, states):\n",
    "        self.states = states\n",
    "        self.num_states = len(states)\n",
    "        self.transition_matrix = torch.zeros((self.num_states, self.num_states))\n",
    "    \n",
    "    def fit(self, data):\n",
    "        for i in range(len(data) - 1):\n",
    "            current_state = self.states.index(self.get_state(data[i]))\n",
    "            next_state = self.states.index(self.get_state(data[i + 1]))\n",
    "            self.transition_matrix[current_state][next_state] += 1\n",
    "        self.transition_matrix = self.transition_matrix / self.transition_matrix.sum(axis=1, keepdim=True)\n",
    "    \n",
    "    def get_state(self, return_value):\n",
    "        if return_value > 0.001:\n",
    "            return 'up'\n",
    "        elif return_value < -0.001:\n",
    "            return 'down'\n",
    "        else:\n",
    "            return 'stable'\n",
    "    \n",
    "    def predict(self, current_state):\n",
    "        current_state_idx = self.states.index(current_state)\n",
    "        next_state_idx = torch.multinomial(self.transition_matrix[current_state_idx], 1).item()\n",
    "        return self.states[next_state_idx]"
   ]
  },
  {
   "cell_type": "code",
   "execution_count": null,
   "metadata": {},
   "outputs": [],
   "source": [
    "# Train the Model\n",
    "states = ['up', 'down', 'stable']\n",
    "model = MarkovChainModel(states)\n",
    "model.fit(fx_data['Return'].values)"
   ]
  },
  {
   "cell_type": "code",
   "execution_count": null,
   "metadata": {},
   "outputs": [],
   "source": [
    "# Backtest the Model\n",
    "def backtest_model(model, data, initial_balance=10000):\n",
    "    balance = initial_balance\n",
    "    position = 0  # 0 means no position, 1 means long, -1 means short\n",
    "    trade_log = []\n",
    "\n",
    "    balances = [balance]\n",
    "    for i in range(1, len(data)):\n",
    "        current_state = model.get_state(data['Return'].values[i - 1])\n",
    "        predicted_state = model.predict(current_state)\n",
    "        \n",
    "        # Implement simple trading strategy\n",
    "        if predicted_state == 'up' and position <= 0:\n",
    "            position = 1\n",
    "            trade_log.append((data.index[i], 'Buy', data['Close'].values[i]))\n",
    "        elif predicted_state == 'down' and position >= 0:\n",
    "            position = -1\n",
    "            trade_log.append((data.index[i], 'Sell', data['Close'].values[i]))\n",
    "        elif predicted_state == 'stable':\n",
    "            if position == 1:\n",
    "                trade_log.append((data.index[i], 'Sell', data['Close'].values[i]))\n",
    "                position = 0\n",
    "            elif position == -1:\n",
    "                trade_log.append((data.index[i], 'Buy', data['Close'].values[i]))\n",
    "                position = 0\n",
    "        \n",
    "        balance += position * (data['Close'].values[i] - data['Close'].values[i - 1])\n",
    "        balances.append(balance)\n",
    "    \n",
    "    return trade_log, balances"
   ]
  },
  {
   "cell_type": "code",
   "execution_count": null,
   "metadata": {},
   "outputs": [],
   "source": [
    "# Backtest the model with a different time frame\n",
    "backtest_data = load_fx_data('EURUSD=X', '2020-01-01', '2023-01-01')\n",
    "trade_log, balances = backtest_model(model, backtest_data)"
   ]
  },
  {
   "cell_type": "code",
   "execution_count": null,
   "metadata": {},
   "outputs": [],
   "source": [
    "# Ensure the lengths match\n",
    "dates = backtest_data.index[1:]\n",
    "\n",
    "# Plot the balance over time\n",
    "plt.figure(figsize=(14, 7))\n",
    "plt.plot(dates, balances[:-1], label='Balance')\n",
    "plt.title('Backtesting Balance Over Time')\n",
    "plt.xlabel('Date')\n",
    "plt.ylabel('Balance')\n",
    "plt.legend()\n",
    "plt.show()"
   ]
  },
  {
   "cell_type": "code",
   "execution_count": null,
   "metadata": {},
   "outputs": [],
   "source": [
    "# Plot the closing prices with buy and sell signals\n",
    "plt.figure(figsize=(14, 7))\n",
    "plt.plot(backtest_data.index, backtest_data['Close'], label='Close Price')\n",
    "buy_signals = [log[0] for log in trade_log if log[1] == 'Buy']\n",
    "sell_signals = [log[0] for log in trade_log if log[1] == 'Sell']\n",
    "plt.scatter(buy_signals, backtest_data.loc[buy_signals]['Close'], marker='^', color='g', label='Buy Signal', s=100)\n",
    "plt.scatter(sell_signals, backtest_data.loc[sell_signals]['Close'], marker='v', color='r', label='Sell Signal', s=100)\n",
    "plt.title('EUR/USD Closing Prices with Buy and Sell Signals')\n",
    "plt.xlabel('Date')\n",
    "plt.ylabel('Price')\n",
    "plt.legend()\n",
    "plt.show()"
   ]
  },
  {
   "cell_type": "code",
   "execution_count": null,
   "metadata": {},
   "outputs": [],
   "source": [
    "# Plot the balance over time\n",
    "def plot_performance(trade_log, initial_balance=10000):\n",
    "    balance = initial_balance\n",
    "    balances = [balance]\n",
    "    dates = [trade_log[0][0]]\n",
    "    \n",
    "    for i in range(1, len(trade_log)):\n",
    "        if trade_log[i][1] == 'Buy':\n",
    "            balance -= trade_log[i][2]\n",
    "        else:\n",
    "            balance += trade_log[i][2]\n",
    "        balances.append(balance)\n",
    "        dates.append(trade_log[i][0])\n",
    "    \n",
    "    plt.figure(figsize=(12, 6))\n",
    "    plt.plot(dates, balances, label='Balance')\n",
    "    plt.xlabel('Date')\n",
    "    plt.ylabel('Balance')\n",
    "    plt.title('Trading Performance')\n",
    "    plt.legend()\n",
    "    plt.show()\n",
    "\n",
    "plot_performance(trade_log)"
   ]
  },
  {
   "cell_type": "markdown",
   "metadata": {},
   "source": []
  }
 ],
 "metadata": {
  "kernelspec": {
   "display_name": "Python 3",
   "language": "python",
   "name": "python3"
  },
  "language_info": {
   "codemirror_mode": {
    "name": "ipython",
    "version": 3
   },
   "file_extension": ".py",
   "mimetype": "text/x-python",
   "name": "python",
   "nbconvert_exporter": "python",
   "pygments_lexer": "ipython3",
   "version": "3.12.4"
  }
 },
 "nbformat": 4,
 "nbformat_minor": 2
}
