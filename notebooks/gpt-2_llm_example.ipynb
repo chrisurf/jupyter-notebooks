{
 "cells": [
  {
   "cell_type": "markdown",
   "id": "9660f06e",
   "metadata": {},
   "source": [
    "# Simple LLM Example Using GPT-2\n",
    "\n",
    "This Jupyter notebook demonstrates how to use the Hugging Face `transformers` library along with `torch` to load a pre-trained GPT-2 model and generate text based on a given prompt. The notebook includes step-by-step instructions and code to:\n",
    "\n",
    "1. Install necessary libraries (`transformers` and `torch`).\n",
    "2. Import the required modules.\n",
    "3. Set up the computation device (GPU or CPU).\n",
    "4. Load the GPT-2 model and tokenizer.\n",
    "5. Define a function to generate text using the GPT-2 model.\n",
    "6. Generate text based on an initial prompt and print the output.\n",
    "\n",
    "This example provides a basic understanding of how to use pre-trained language models for text generation tasks."
   ]
  },
  {
   "cell_type": "code",
   "execution_count": null,
   "id": "6a7594e4",
   "metadata": {},
   "outputs": [],
   "source": [
    "# Install necessary libraries\n",
    "%pip install transformers torch"
   ]
  },
  {
   "cell_type": "code",
   "execution_count": null,
   "id": "7c97e4a2",
   "metadata": {},
   "outputs": [],
   "source": [
    "# Import necessary libraries\n",
    "import torch\n",
    "from transformers import GPT2LMHeadModel, GPT2Tokenizer"
   ]
  },
  {
   "cell_type": "code",
   "execution_count": null,
   "id": "9a9ad8f2",
   "metadata": {},
   "outputs": [],
   "source": [
    "# Set device to GPU if available, else use CPU\n",
    "device = torch.device(\"cuda\" if torch.cuda.is_available() else \"cpu\")"
   ]
  },
  {
   "cell_type": "code",
   "execution_count": null,
   "id": "5a8e2c57",
   "metadata": {},
   "outputs": [],
   "source": [
    "# Load pre-trained GPT-2 model and tokenizer from Hugging Face\n",
    "model_name = 'gpt2'  # Options: 'gpt2', 'gpt2-medium', 'gpt2-large', 'gpt2-xl'\n",
    "model = GPT2LMHeadModel.from_pretrained(model_name)\n",
    "tokenizer = GPT2Tokenizer.from_pretrained(model_name)"
   ]
  },
  {
   "cell_type": "code",
   "execution_count": null,
   "id": "96a97011",
   "metadata": {},
   "outputs": [],
   "source": [
    "# Move the model to the appropriate device\n",
    "model.to(device)"
   ]
  },
  {
   "cell_type": "code",
   "execution_count": null,
   "id": "a380f918",
   "metadata": {},
   "outputs": [],
   "source": [
    "# Function to generate text based on a given prompt\n",
    "def generate_text(prompt, max_length=100):\n",
    "    \"\"\"\n",
    "    Generate text using GPT-2 based on the input prompt.\n",
    "    \n",
    "    Args:\n",
    "        prompt (str): The initial text prompt.\n",
    "        max_length (int): Maximum length of the generated text.\n",
    "        \n",
    "    Returns:\n",
    "        str: Generated text.\n",
    "    \"\"\"\n",
    "    # Encode the input text to get input IDs\n",
    "    input_ids = tokenizer.encode(prompt, return_tensors='pt').to(device)\n",
    "    model.config.pad_token_id = tokenizer.eos_token_id\n",
    "\n",
    "    # Generate text using the model\n",
    "    output = model.generate(input_ids, max_length=max_length, num_return_sequences=1, no_repeat_ngram_size=2, early_stopping=True)\n",
    "    \n",
    "    # Decode the generated text to a string\n",
    "    text = tokenizer.decode(output[0], skip_special_tokens=True)\n",
    "    return text"
   ]
  },
  {
   "cell_type": "code",
   "execution_count": null,
   "id": "b8b90dd2",
   "metadata": {},
   "outputs": [],
   "source": [
    "# Define the initial text prompt\n",
    "prompt = \"Once upon a time\""
   ]
  },
  {
   "cell_type": "code",
   "execution_count": null,
   "id": "a0830f91",
   "metadata": {},
   "outputs": [],
   "source": [
    "# Generate text based on the defined prompt\n",
    "generated_text = generate_text(prompt)\n",
    "\n",
    "# Print the generated text\n",
    "print(\"Generated Text:\")\n",
    "print(generated_text)"
   ]
  }
 ],
 "metadata": {
  "kernelspec": {
   "display_name": "Python 3",
   "language": "python",
   "name": "python3"
  },
  "language_info": {
   "codemirror_mode": {
    "name": "ipython",
    "version": 3
   },
   "file_extension": ".py",
   "mimetype": "text/x-python",
   "name": "python",
   "nbconvert_exporter": "python",
   "pygments_lexer": "ipython3",
   "version": "3.12.4"
  }
 },
 "nbformat": 4,
 "nbformat_minor": 5
}
