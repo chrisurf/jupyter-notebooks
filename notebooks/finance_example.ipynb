{
  "cells": [
    {
      "cell_type": "markdown",
      "metadata": {},
      "source": [
        "# Bitcoin (BTC) Price Analysis\n",
        "\n",
        "This Jupyter Notebook is designed for testing purposes and provides a comprehensive analysis of Bitcoin's (BTC) historical price performance. \n",
        "\n",
        "## Libraries Used\n",
        "\n",
        "- **Python**: The primary programming language used.\n",
        "- **pandas**: For data manipulation and analysis.\n",
        "- **matplotlib**: For creating static, animated, and interactive visualizations.\n",
        "- **seaborn**: For making statistical graphics.\n",
        "- **yfinance**: To fetch historical market data from Yahoo Finance."
      ]
    },
    {
      "cell_type": "markdown",
      "metadata": {
        "id": "zeo7ICY0Poac"
      },
      "source": [
        "## Install Required Libraries\n",
        "\n",
        "We will need `pandas` for data manipulation, `matplotlib` and `seaborn` for visualization, and `yfinance` to download the Bitcoin price data. Insert and run the following code cell at the top of your notebook to install the necessary Python packages:"
      ]
    },
    {
      "cell_type": "code",
      "execution_count": null,
      "metadata": {
        "colab": {
          "base_uri": "https://localhost:8080/"
        },
        "id": "5Y4dP5a2OTrJ",
        "outputId": "bc271249-50b5-4ec7-9326-7d2614f5931e"
      },
      "outputs": [],
      "source": [
        "%pip install pandas matplotlib seaborn yfinance ipykernel"
      ]
    },
    {
      "cell_type": "markdown",
      "metadata": {
        "id": "PEiC7kEiPtmu"
      },
      "source": [
        "## Download BTC Price Data\n",
        "`yfinance` allows us to download historical market data from Yahoo Finance. We'll use it to download the daily time series of Bitcoin prices from 2009 until today. Note that Bitcoin data on platforms like Yahoo Finance may not be available from 2009 because it wasn't traded on standard exchanges until around 2010 or later."
      ]
    },
    {
      "cell_type": "code",
      "execution_count": null,
      "metadata": {
        "colab": {
          "base_uri": "https://localhost:8080/",
          "height": 255
        },
        "id": "y-KlaDsNQS8C",
        "outputId": "477c1eca-0e5d-450e-a3a4-a8a72183dbbe"
      },
      "outputs": [],
      "source": [
        "import yfinance as yf\n",
        "\n",
        "# Download BTC price data\n",
        "btc = yf.download('BTC-USD', start='2010-07-17') # Adjust the start date if earlier data becomes available\n",
        "\n",
        "# Display the first few rows to check the beginning of the data\n",
        "btc.head()\n",
        "\n",
        "# Display the last few rows to ensure it's loaded\n",
        "# btc.tail()"
      ]
    },
    {
      "cell_type": "markdown",
      "metadata": {
        "id": "0-1A1jArQkPS"
      },
      "source": [
        "## Data Preprocessing\n",
        "\n",
        "Download BTC price data using the yfinance API. We will calculate yearly profit/loss percentages and actual price changes in dollars."
      ]
    },
    {
      "cell_type": "code",
      "execution_count": null,
      "metadata": {
        "colab": {
          "base_uri": "https://localhost:8080/",
          "height": 412
        },
        "id": "tskblWWttGw1",
        "outputId": "43e6f7c1-f67e-44ec-f3b9-58285bf8c66a"
      },
      "outputs": [],
      "source": [
        "import pandas as pd\n",
        "import yfinance as yf\n",
        "\n",
        "# Download BTC price data\n",
        "btc = yf.download('BTC-USD', start='2010-07-17')\n",
        "\n",
        "# Create an empty DataFrame for the summary\n",
        "btc_december_summary = pd.DataFrame()\n",
        "\n",
        "# Loop through the years of interest\n",
        "for year in range(2014, 2024):\n",
        "    # Extract data for December of the specific year\n",
        "    december_data = btc[(btc.index.month == 12) & (btc.index.year == year)]\n",
        "\n",
        "    # Check if there is data for December of that year\n",
        "    if not december_data.empty:\n",
        "        # Get the last day of December or the closest available date\n",
        "        last_day = december_data.last('D')\n",
        "\n",
        "        # Prepare the data to be added to the summary\n",
        "        summary_data = {\n",
        "            'Date': last_day.index[-1].strftime('%Y-%m-%d'),\n",
        "            'Closing Price': last_day['Close'].iloc[-1],\n",
        "            'High Price': december_data['High'].max()\n",
        "        }\n",
        "\n",
        "        # Convert summary_data to DataFrame for the current year\n",
        "        df_current_year = pd.DataFrame([summary_data])\n",
        "\n",
        "        # Calculate the percentage and actual price change from the previous December 31st\n",
        "        if year > 2014:  # Ensure there is a previous year to compare with\n",
        "            previous_year_close = btc_december_summary.loc[btc_december_summary['Date'].str.startswith(str(year-1)), 'Closing Price'].values[0]\n",
        "            current_year_close = summary_data['Closing Price']\n",
        "            price_change = current_year_close - previous_year_close\n",
        "            percent_change = (price_change / previous_year_close) * 100\n",
        "\n",
        "            # Add the calculated values to the DataFrame for the current year\n",
        "            df_current_year['Price Change ($)'] = price_change\n",
        "            df_current_year['Percent Change (%)'] = percent_change\n",
        "        else:\n",
        "            # For the first year in the range, set changes to NaN as there is no previous year to compare\n",
        "            df_current_year['Price Change ($)'] = pd.NA\n",
        "            df_current_year['Percent Change (%)'] = pd.NA\n",
        "\n",
        "        # Append the data for the year to the summary DataFrame\n",
        "        btc_december_summary = pd.concat([btc_december_summary, df_current_year], ignore_index=True)\n",
        "\n",
        "# Set Date column as index\n",
        "btc_december_summary.set_index('Date', inplace=True)\n",
        "\n",
        "btc_december_summary\n"
      ]
    },
    {
      "cell_type": "markdown",
      "metadata": {
        "id": "3v7Na9731XV_"
      },
      "source": [
        "## Data Preprocessing 2010 - 2023\n",
        "\n",
        "Download BTC price data using the CryptoCompare API. We will calculate yearly profit/loss percentages and actual price changes in dollars."
      ]
    },
    {
      "cell_type": "code",
      "execution_count": null,
      "metadata": {
        "colab": {
          "base_uri": "https://localhost:8080/"
        },
        "id": "4qu4e_RQUrOL",
        "outputId": "7c316002-2e6c-4e2c-af66-3a7068808aa4"
      },
      "outputs": [],
      "source": [
        "%pip install requests"
      ]
    },
    {
      "cell_type": "code",
      "execution_count": null,
      "metadata": {
        "colab": {
          "base_uri": "https://localhost:8080/",
          "height": 488
        },
        "id": "nfqSlSouzs-E",
        "outputId": "372504a9-e002-4b59-9b56-e9c35be34db0"
      },
      "outputs": [],
      "source": [
        "import requests\n",
        "import pandas as pd\n",
        "\n",
        "# Base URL for the CryptoCompare API\n",
        "base_url = 'https://min-api.cryptocompare.com/data/v2/histoday'\n",
        "\n",
        "# Initialize an empty list to store the yearly data\n",
        "yearly_data = []\n",
        "\n",
        "for year in range(2010, 2024):\n",
        "    # The 'toTs' parameter is set to December 31st of the current year\n",
        "    # The 'limit' parameter is used to fetch the last record (0 means only the last day's data)\n",
        "    params = {\n",
        "        'fsym': 'BTC',\n",
        "        'tsym': 'USD',\n",
        "        'limit': 1,\n",
        "        'toTs': pd.Timestamp(year=year, month=12, day=31).timestamp()\n",
        "    }\n",
        "\n",
        "    response = requests.get(base_url, params=params)\n",
        "    data = response.json()\n",
        "\n",
        "    # Extract the closing price and the high price from the response\n",
        "    if data['Response'] == 'Success':\n",
        "        price_info = data['Data']['Data'][-1]  # Get the last (or only) record\n",
        "        date = pd.to_datetime(price_info['time'], unit='s').strftime('%Y-%m-%d')\n",
        "        close_price = price_info['close']\n",
        "        high_price = price_info['high']\n",
        "        low_price = price_info['low']\n",
        "\n",
        "        # Append the data for the current year to the list\n",
        "        yearly_data.append([date, close_price, high_price, low_price])\n",
        "\n",
        "# Convert the list to a DataFrame\n",
        "btc_december_summary = pd.DataFrame(yearly_data, columns=['Date', 'Closing Price', 'High Price', 'Low Price'])\n",
        "\n",
        "# Calculate the price change and percentage change from the previous year\n",
        "btc_december_summary['Price Change ($)'] = btc_december_summary['Closing Price'].diff()\n",
        "btc_december_summary['Percentage Change (%)'] = btc_december_summary['Closing Price'].pct_change() * 100\n",
        "\n",
        "# Display the DataFrame\n",
        "btc_december_summary\n"
      ]
    },
    {
      "cell_type": "markdown",
      "metadata": {
        "id": "i2UnglDWVq5X"
      },
      "source": [
        "## Chart BTC Percentage Change\n",
        "\n",
        "Visualize the actual annual percentage change of Bitcoin's closing price on December 31st for each year from 2010 to 2023"
      ]
    },
    {
      "cell_type": "code",
      "execution_count": null,
      "metadata": {
        "colab": {
          "base_uri": "https://localhost:8080/",
          "height": 694
        },
        "id": "hNtLPRVL2Jkj",
        "outputId": "4b056bac-fd66-4df5-933c-a4e042d8eda9"
      },
      "outputs": [],
      "source": [
        "import requests\n",
        "import pandas as pd\n",
        "import matplotlib.pyplot as plt\n",
        "\n",
        "# Base URL for the CryptoCompare API\n",
        "base_url = 'https://min-api.cryptocompare.com/data/v2/histoday'\n",
        "\n",
        "# Initialize an empty list to store the yearly data\n",
        "yearly_data = []\n",
        "\n",
        "for year in range(2010, 2024):\n",
        "    # The 'toTs' parameter is set to December 31st of the current year\n",
        "    # The 'limit' parameter is used to fetch the last record (0 means only the last day's data)\n",
        "    params = {\n",
        "        'fsym': 'BTC',\n",
        "        'tsym': 'USD',\n",
        "        'limit': 1,\n",
        "        'toTs': pd.Timestamp(year=year, month=12, day=31).timestamp()\n",
        "    }\n",
        "\n",
        "    response = requests.get(base_url, params=params)\n",
        "    data = response.json()\n",
        "\n",
        "    # Extract the closing price and the high price from the response\n",
        "    if data['Response'] == 'Success':\n",
        "        price_info = data['Data']['Data'][-1]  # Get the last (or only) record\n",
        "        date = pd.to_datetime(price_info['time'], unit='s').strftime('%Y-%m-%d')\n",
        "        close_price = price_info['close']\n",
        "        high_price = price_info['high']\n",
        "\n",
        "        # Append the data for the current year to the list\n",
        "        yearly_data.append([date, close_price, high_price])\n",
        "\n",
        "# Convert the list to a DataFrame\n",
        "btc_december_summary = pd.DataFrame(yearly_data, columns=['Date', 'Closing Price', 'High Price'])\n",
        "\n",
        "# Calculate the price change and percentage change from the previous year\n",
        "btc_december_summary['Price Change ($)'] = btc_december_summary['Closing Price'].diff()\n",
        "btc_december_summary['Percentage Change (%)'] = btc_december_summary['Closing Price'].pct_change() * 100\n",
        "\n",
        "# Plotting\n",
        "plt.figure(figsize=(14, 7))\n",
        "plt.plot(btc_december_summary['Date'], btc_december_summary['Percentage Change (%)'], marker='o', linestyle='-', color='b')\n",
        "plt.title('Annual Percentage Change of BTC Closing Price on December 31st')\n",
        "plt.xlabel('Year')\n",
        "plt.ylabel('Percentage Change (%)')\n",
        "plt.xticks(rotation=45)\n",
        "plt.grid(True)\n",
        "plt.show()\n"
      ]
    },
    {
      "cell_type": "code",
      "execution_count": null,
      "metadata": {
        "colab": {
          "base_uri": "https://localhost:8080/",
          "height": 723
        },
        "id": "U7IXp3ODQ2Kd",
        "outputId": "b9fc4813-d8c3-4dd6-ed34-5cf7258a8c17"
      },
      "outputs": [],
      "source": [
        "import matplotlib.pyplot as plt\n",
        "import seaborn as sns\n",
        "\n",
        "sns.set(style=\"whitegrid\")\n",
        "\n",
        "fig, ax1 = plt.subplots(figsize=(14, 7))\n",
        "\n",
        "color = 'tab:red'\n",
        "ax1.set_xlabel('Year')\n",
        "ax1.set_ylabel('Profit/Loss (%)', color=color)\n",
        "ax1.plot(yearly_summary.index, yearly_summary['Profit/Loss (%)'], color=color)\n",
        "ax1.tick_params(axis='y', labelcolor=color)\n",
        "\n",
        "ax2 = ax1.twinx()\n",
        "color = 'tab:blue'\n",
        "ax2.set_ylabel('Price Change ($)', color=color)\n",
        "ax2.plot(yearly_summary.index, yearly_summary['Price Change ($)'], color=color)\n",
        "ax2.tick_params(axis='y', labelcolor=color)\n",
        "\n",
        "fig.tight_layout()\n",
        "plt.title('BTC Yearly Profit/Loss Percentage and Price Change')\n",
        "plt.show()"
      ]
    },
    {
      "cell_type": "markdown",
      "metadata": {
        "id": "dr_0EiZcB9Hm"
      },
      "source": [
        "## Chart ETH Percentage Change\n",
        "\n",
        "Visualize the actual annual percentage change of Ethereum's closing price on December 31st for each year from 2015 to 2023"
      ]
    },
    {
      "cell_type": "code",
      "execution_count": null,
      "metadata": {
        "colab": {
          "base_uri": "https://localhost:8080/",
          "height": 332
        },
        "id": "1umiZcuVBfHt",
        "outputId": "7f73a8fd-35d8-4184-a1ba-58eea6c44f3f"
      },
      "outputs": [],
      "source": [
        "import requests\n",
        "import pandas as pd\n",
        "\n",
        "# Base URL for the CryptoCompare API\n",
        "base_url = 'https://min-api.cryptocompare.com/data/v2/histoday'\n",
        "\n",
        "# Initialize an empty list to store the yearly data\n",
        "yearly_data = []\n",
        "\n",
        "for year in range(2015, 2024):  # Ethereum was launched in 2015\n",
        "    # The 'toTs' parameter is set to December 31st of the current year\n",
        "    # The 'limit' parameter is used to fetch the last record (0 means only the last day's data)\n",
        "    params = {\n",
        "        'fsym': 'ETH',  # Changed from BTC to ETH\n",
        "        'tsym': 'USD',\n",
        "        'limit': 1,\n",
        "        'toTs': pd.Timestamp(year=year, month=12, day=31).timestamp()\n",
        "    }\n",
        "\n",
        "    response = requests.get(base_url, params=params)\n",
        "    data = response.json()\n",
        "\n",
        "    # Extract the closing price, the high price, and the low price from the response\n",
        "    if data['Response'] == 'Success':\n",
        "        price_info = data['Data']['Data'][-1]  # Get the last (or only) record\n",
        "        date = pd.to_datetime(price_info['time'], unit='s').strftime('%Y-%m-%d')\n",
        "        close_price = price_info['close']\n",
        "        high_price = price_info['high']\n",
        "        low_price = price_info['low']\n",
        "\n",
        "        # Append the data for the current year to the list\n",
        "        yearly_data.append([date, close_price, high_price, low_price])\n",
        "\n",
        "# Convert the list to a DataFrame\n",
        "eth_december_summary = pd.DataFrame(yearly_data, columns=['Date', 'Closing Price', 'High Price', 'Low Price'])\n",
        "\n",
        "# Calculate the price change and percentage change from the previous year\n",
        "eth_december_summary['Price Change ($)'] = eth_december_summary['Closing Price'].diff()\n",
        "eth_december_summary['Percentage Change (%)'] = eth_december_summary['Closing Price'].pct_change() * 100\n",
        "\n",
        "# Display the DataFrame\n",
        "eth_december_summary\n"
      ]
    },
    {
      "cell_type": "markdown",
      "metadata": {
        "id": "e77gjI_OCIek"
      },
      "source": [
        "## Chart SOL Percentage Change\n",
        "\n",
        "Visualize the actual annual percentage change of Solana's closing price on December 31st for each year from 2015 to 2023"
      ]
    },
    {
      "cell_type": "code",
      "execution_count": null,
      "metadata": {
        "colab": {
          "base_uri": "https://localhost:8080/",
          "height": 175
        },
        "id": "I4EHK7YhCF1B",
        "outputId": "9e0b0c21-4051-4810-90fe-33dc7d3415e7"
      },
      "outputs": [],
      "source": [
        "import requests\n",
        "import pandas as pd\n",
        "\n",
        "# Base URL for the CryptoCompare API\n",
        "base_url = 'https://min-api.cryptocompare.com/data/v2/histoday'\n",
        "\n",
        "# Initialize an empty list to store the yearly data\n",
        "yearly_data = []\n",
        "\n",
        "for year in range(2020, 2024):  # Solana was launched in 2020\n",
        "    # The 'toTs' parameter is set to December 31st of the current year\n",
        "    # The 'limit' parameter is used to fetch the last record (0 means only the last day's data)\n",
        "    params = {\n",
        "        'fsym': 'SOL',  # Changed from ETH to SOL\n",
        "        'tsym': 'USD',\n",
        "        'limit': 1,\n",
        "        'toTs': pd.Timestamp(year=year, month=12, day=31).timestamp()\n",
        "    }\n",
        "\n",
        "    response = requests.get(base_url, params=params)\n",
        "    data = response.json()\n",
        "\n",
        "    # Extract the closing price, the high price, and the low price from the response\n",
        "    if data['Response'] == 'Success':\n",
        "        price_info = data['Data']['Data'][-1]  # Get the last (or only) record\n",
        "        date = pd.to_datetime(price_info['time'], unit='s').strftime('%Y-%m-%d')\n",
        "        close_price = price_info['close']\n",
        "        high_price = price_info['high']\n",
        "        low_price = price_info['low']\n",
        "\n",
        "        # Append the data for the current year to the list\n",
        "        yearly_data.append([date, close_price, high_price, low_price])\n",
        "\n",
        "# Convert the list to a DataFrame\n",
        "sol_december_summary = pd.DataFrame(yearly_data, columns=['Date', 'Closing Price', 'High Price', 'Low Price'])\n",
        "\n",
        "# Calculate the price change and percentage change from the previous year\n",
        "sol_december_summary['Price Change ($)'] = sol_december_summary['Closing Price'].diff()\n",
        "sol_december_summary['Percentage Change (%)'] = sol_december_summary['Closing Price'].pct_change() * 100\n",
        "\n",
        "# Display the DataFrame\n",
        "sol_december_summary\n"
      ]
    }
  ],
  "metadata": {
    "colab": {
      "provenance": []
    },
    "kernelspec": {
      "display_name": "Python 3",
      "name": "python3"
    },
    "language_info": {
      "codemirror_mode": {
        "name": "ipython",
        "version": 3
      },
      "file_extension": ".py",
      "mimetype": "text/x-python",
      "name": "python",
      "nbconvert_exporter": "python",
      "pygments_lexer": "ipython3",
      "version": "3.12.4"
    }
  },
  "nbformat": 4,
  "nbformat_minor": 0
}
