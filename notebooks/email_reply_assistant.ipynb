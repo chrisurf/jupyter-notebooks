{
    "cells": [
        {
            "cell_type": "markdown",
            "metadata": {},
            "source": [
                "# Email Reply Assistant with LM Studio\n",
                "This notebook demonstrates how to connect to a local Language Model (LM) Studio server and use it to generate email replies."
            ]
        },
        {
            "cell_type": "code",
            "execution_count": 125,
            "metadata": {},
            "outputs": [
                {
                    "name": "stdout",
                    "output_type": "stream",
                    "text": [
                        "Requirement already satisfied: requests in /Users/chris/.pyenv/versions/3.12.4/lib/python3.12/site-packages (2.32.3)\n",
                        "Requirement already satisfied: charset-normalizer<4,>=2 in /Users/chris/.pyenv/versions/3.12.4/lib/python3.12/site-packages (from requests) (3.3.2)\n",
                        "Requirement already satisfied: idna<4,>=2.5 in /Users/chris/.pyenv/versions/3.12.4/lib/python3.12/site-packages (from requests) (3.7)\n",
                        "Requirement already satisfied: urllib3<3,>=1.21.1 in /Users/chris/.pyenv/versions/3.12.4/lib/python3.12/site-packages (from requests) (2.2.2)\n",
                        "Requirement already satisfied: certifi>=2017.4.17 in /Users/chris/.pyenv/versions/3.12.4/lib/python3.12/site-packages (from requests) (2024.6.2)\n",
                        "Note: you may need to restart the kernel to use updated packages.\n"
                    ]
                }
            ],
            "source": [
                "# Step 1: Install required libraries (if not already installed)\n",
                "%pip install requests"
            ]
        },
        {
            "cell_type": "code",
            "execution_count": 126,
            "metadata": {},
            "outputs": [],
            "source": [
                "# Step 2: Import necessary libraries\n",
                "import requests\n",
                "import json"
            ]
        },
        {
            "cell_type": "code",
            "execution_count": 127,
            "metadata": {},
            "outputs": [],
            "source": [
                "# Step 3: Define connection details to your local LM Studio server\n",
                "LM_STUDIO_URL = \"http://localhost:1234/v1/chat/completions\""
            ]
        },
        {
            "cell_type": "code",
            "execution_count": 128,
            "metadata": {},
            "outputs": [],
            "source": [
                "# Step 4: Function to generate content using LM Studio\n",
                "def generate_content(prompt, max_tokens=100, temperature=0.7, model=\"lmstudio-community/Meta-Llama-3-8B-Instruct-GGUF/Meta-Llama-3-8B-Instruct-Q4_K_M.gguf\"):\n",
                "    headers = {\n",
                "        'Content-Type': 'application/json',\n",
                "    }\n",
                "    payload = {\n",
                "        \"model\": model,\n",
                "        \"messages\": [\n",
                "            {\"role\": \"user\", \"content\": prompt}\n",
                "        ],\n",
                "        \"max_tokens\": max_tokens,\n",
                "        \"temperature\": temperature,\n",
                "    }\n",
                "    \n",
                "    try:\n",
                "        response = requests.post(LM_STUDIO_URL, headers=headers, json=payload)\n",
                "        response.raise_for_status()  # Raise an exception for bad status codes\n",
                "        \n",
                "        result = response.json()\n",
                "        return result['choices'][0]['message']['content']\n",
                "    except requests.exceptions.RequestException as e:\n",
                "        print(f\"Error: {e}\")\n",
                "        return \"\""
            ]
        },
        {
            "cell_type": "code",
            "execution_count": 129,
            "metadata": {},
            "outputs": [
                {
                    "name": "stdout",
                    "output_type": "stream",
                    "text": [
                        "Incoming Email:\n",
                        "Liebe Eltern\n",
                        "Im Anhang findet ihr noch einen Brief bezüglich dem Datenschutz der Kinder.\n",
                        "Bitte lest in sorgfältig durch und helft uns dabei die Daten der Kinder sicherzustellen und Bilder der Kinder nicht weiter zu verschicken.\n",
                        "Liebe Grüsse Dewi\n"
                    ]
                }
            ],
            "source": [
                "# Step 5: Load email content from a text file\n",
                "FILE_NAME = \"../email.txt\"\n",
                "with open(FILE_NAME, 'r') as file:\n",
                "    incoming_email = file.read()\n",
                "print(\"Incoming Email:\")\n",
                "print(incoming_email)"
            ]
        },
        {
            "cell_type": "code",
            "execution_count": 130,
            "metadata": {},
            "outputs": [
                {
                    "name": "stdout",
                    "output_type": "stream",
                    "text": [
                        "Analysis:\n",
                        "Key points:\n",
                        "\n",
                        "* An attachment is included regarding child data protection.\n",
                        "* Parents are requested to read the brief carefully.\n",
                        "* Help is needed in securing children's data and not sharing their pictures further.\n",
                        "* The email is sent by Dewi.\n"
                    ]
                }
            ],
            "source": [
                "# Step 6: Analyze the incoming email\n",
                "analysis_prompt = f\"Analyze the following email and extract the key points: {incoming_email}. Keep the output only to the point no addional comments.\"\n",
                "analysis = generate_content(analysis_prompt)\n",
                "print(\"Analysis:\")\n",
                "print(analysis)"
            ]
        },
        {
            "cell_type": "code",
            "execution_count": 131,
            "metadata": {},
            "outputs": [
                {
                    "name": "stdout",
                    "output_type": "stream",
                    "text": [
                        "Possible Reply Intents:\n",
                        "Here are 3 possible intents for a reply:\n",
                        "\n",
                        "1. Acknowledgment: Thank you for sending the attachment, I will read it carefully.\n",
                        "2. Request for Clarification: Can you explain what specific steps we need to take to secure children's data?\n",
                        "3. Action Plan: I have reviewed the brief and will make sure to follow the guidelines to protect children's data and not share their pictures further.\n"
                    ]
                }
            ],
            "source": [
                "# Step 7: To Conclude 3 possible intents to reply\n",
                "format = \"Provide a numbered list of options\"\n",
                "intents_prompt = f\"Based on the following email, suggest 3 possible intents for a reply. Only provide short sentences expressing the intention, not the full email. \\nEmail: {incoming_email}\\nAnalysis: {analysis}. {format}\"\n",
                "intents = generate_content(intents_prompt, max_tokens=100)\n",
                "print(\"Possible Reply Intents:\")\n",
                "print(intents)"
            ]
        },
        {
            "cell_type": "code",
            "execution_count": 132,
            "metadata": {},
            "outputs": [
                {
                    "name": "stdout",
                    "output_type": "stream",
                    "text": [
                        "Selected intent:\n",
                        "Can you explain what specific steps we need to take to secure children's data?\n"
                    ]
                }
            ],
            "source": [
                "# Step 7: Select an intent to reply\n",
                "option = 2\n",
                "option_prompt = f\"Repeat option {option} exactly as it appears in the text below: {intents}. Don't list any other options.\"\n",
                "intent = generate_content(option_prompt, max_tokens=100)\n",
                "print(\"Selected intent:\")\n",
                "print(intent)"
            ]
        },
        {
            "cell_type": "code",
            "execution_count": 135,
            "metadata": {},
            "outputs": [
                {
                    "name": "stdout",
                    "output_type": "stream",
                    "text": [
                        "Generated Response:\n",
                        "Liebe Dewi,\n",
                        "\n",
                        "vielen Dank für den Anhang, der uns wichtige Informationen über den Datenschutz unserer Kinder bereitstellt. Wir haben ihn sorgfältig durchgelesen und verstehen die Notwendigkeit, unsere Kinder zu schützen.\n",
                        "\n",
                        "Um Ihre Bitte um Hilfe bei der Sicherung von Kinders Daten und Vermeidung weiterer Bilderversendungen erfüllen zu können, bitten wir Sie, uns genauer darzulegen, was spezielle Schritte sind, die wir unternehmen müssen, um diese Ziele zu erreichen. Wir möchten sicherstellen, dass wir alle notwendigen Maßnahmen ergreifen, um unsere Kinder vor jeglichen Datenschutzproblemen zu schützen.\n",
                        "\n",
                        "Wir freuen uns darauf, Ihre Anweisungen entgegenzunehmen und unsere Kinder bestmöglich zu schützen.\n",
                        "\n",
                        "Mit freundlichen Grüßen,\n",
                        "[Your Name]\n"
                    ]
                }
            ],
            "source": [
                "# Step 8: Generate a response based on the selected intent\n",
                "language = \"Reply in the same language as the incoming email\"\n",
                "response_prompt = f\"Generate a polite and professional reply to the following email: {incoming_email}\\nAnalysis: {analysis}\\n Use following Intent: {intent}.\\n {language}\"\n",
                "response = generate_content(response_prompt, max_tokens=500)\n",
                "print(\"Generated Response:\")\n",
                "print(response)"
            ]
        },
        {
            "cell_type": "code",
            "execution_count": 134,
            "metadata": {},
            "outputs": [
                {
                    "name": "stdout",
                    "output_type": "stream",
                    "text": [
                        "Refined Response:\n",
                        "Here's a refined and proofread version of the email reply:\n",
                        "\n",
                        "Dear Dewi,\n",
                        "\n",
                        "Thanks for sharing the attachment on child data protection. I've reviewed it carefully and understand the importance of keeping kids' data safe.\n",
                        "\n",
                        "Can you please provide more details on how we can ensure their data security? Specifically, I'd like to know:\n",
                        "\n",
                        "* What are the key measures to protect their personal data?\n",
                        "* How can we limit the sharing of their pictures online?\n",
                        "* Are there any guidelines or protocols we should follow when handling children's data?\n",
                        "\n",
                        "Thanks for your efforts in keeping our kids' data safe. I look forward to hearing back from you on this.\n",
                        "\n",
                        "Best regards,\n",
                        "[Your Name]\n",
                        "\n",
                        "I made the following changes:\n",
                        "\n",
                        "* Removed unnecessary phrases and words to\n"
                    ]
                }
            ],
            "source": [
                "# Step 9: Refine and proofread the generated response\n",
                "tone = \"Keep it short and casual.\"\n",
                "language = \"Reply in the same language as the incoming email\"\n",
                "refine_prompt = f\"Refine and proofread the following email reply: {response}\\n{tone}.\\n {language}\"\n",
                "refined_response = generate_content(refine_prompt, max_tokens=150)\n",
                "print(\"Refined Response:\")\n",
                "print(refined_response)"
            ]
        }
    ],
    "metadata": {
        "kernelspec": {
            "display_name": "Python 3",
            "language": "python",
            "name": "python3"
        },
        "language_info": {
            "codemirror_mode": {
                "name": "ipython",
                "version": 3
            },
            "file_extension": ".py",
            "mimetype": "text/x-python",
            "name": "python",
            "nbconvert_exporter": "python",
            "pygments_lexer": "ipython3",
            "version": "3.8.5"
        }
    },
    "nbformat": 4,
    "nbformat_minor": 4
}
