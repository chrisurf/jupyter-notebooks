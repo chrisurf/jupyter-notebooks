{
    "cells": [
        {
            "cell_type": "markdown",
            "metadata": {},
            "source": [
                "# Email Reply Assistant with LM Studio\n",
                "This notebook demonstrates how to connect to a local Language Model (LM) Studio server and use it to generate email replies."
            ]
        },
        {
            "cell_type": "code",
            "execution_count": null,
            "metadata": {},
            "outputs": [],
            "source": [
                "# Step 1: Install required libraries (if not already installed)\n",
                "%pip install requests"
            ]
        },
        {
            "cell_type": "code",
            "execution_count": null,
            "metadata": {},
            "outputs": [],
            "source": [
                "# Step 2: Import necessary libraries\n",
                "import requests"
            ]
        },
        {
            "cell_type": "code",
            "execution_count": null,
            "metadata": {},
            "outputs": [],
            "source": [
                "# Step 3: Define connection details to your local LM Studio server\n",
                "LM_STUDIO_URL = \"http://localhost:1234/v1/chat/completions\""
            ]
        },
        {
            "cell_type": "code",
            "execution_count": null,
            "metadata": {},
            "outputs": [],
            "source": [
                "# Step 4: Function to generate content using LM Studio\n",
                "def generate_content(prompt, max_tokens=100, temperature=0.7, model=\"lmstudio-community/Meta-Llama-3-8B-Instruct-GGUF/Meta-Llama-3-8B-Instruct-Q4_K_M.gguf\"):\n",
                "    headers = {\n",
                "        'Content-Type': 'application/json',\n",
                "    }\n",
                "    payload = {\n",
                "        \"model\": model,\n",
                "        \"messages\": [\n",
                "            {\"role\": \"user\", \"content\": prompt}\n",
                "        ],\n",
                "        \"max_tokens\": max_tokens,\n",
                "        \"temperature\": temperature,\n",
                "    }\n",
                "    \n",
                "    try:\n",
                "        response = requests.post(LM_STUDIO_URL, headers=headers, json=payload)\n",
                "        response.raise_for_status()  # Raise an exception for bad status codes\n",
                "        \n",
                "        result = response.json()\n",
                "        return result['choices'][0]['message']['content']\n",
                "    except requests.exceptions.RequestException as e:\n",
                "        print(f\"Error: {e}\")\n",
                "        return \"\""
            ]
        },
        {
            "cell_type": "code",
            "execution_count": null,
            "metadata": {},
            "outputs": [],
            "source": [
                "# Step 5: Load email content from a text file\n",
                "FILE_NAME = \"../email.txt\"\n",
                "with open(FILE_NAME, 'r') as file:\n",
                "    incoming_email = file.read()\n",
                "print(\"Incoming Email:\")\n",
                "print(incoming_email)"
            ]
        },
        {
            "cell_type": "code",
            "execution_count": null,
            "metadata": {},
            "outputs": [],
            "source": [
                "# Step 6: Analyze the incoming email\n",
                "analysis_prompt = f\"Analyze the following email and extract the key points: {incoming_email}. Keep the output only to the point no addional comments.\"\n",
                "analysis = generate_content(analysis_prompt)\n",
                "print(\"Analysis:\")\n",
                "print(analysis)"
            ]
        },
        {
            "cell_type": "code",
            "execution_count": null,
            "metadata": {},
            "outputs": [],
            "source": [
                "# Step 7: To Conclude 3 possible intents to reply\n",
                "format = \"Provide a numbered list of options\"\n",
                "intents_prompt = f\"Based on the following email, suggest 3 possible intents for a reply. Only provide short sentences expressing the intention, not the full email. \\nEmail: {incoming_email}\\nAnalysis: {analysis}. {format}\"\n",
                "intents = generate_content(intents_prompt, max_tokens=100)\n",
                "print(\"Possible Reply Intents:\")\n",
                "print(intents)"
            ]
        },
        {
            "cell_type": "code",
            "execution_count": null,
            "metadata": {},
            "outputs": [],
            "source": [
                "# Step 7: Select an intent to reply\n",
                "option = 2\n",
                "option_prompt = f\"Repeat option {option} exactly as it appears in the text below: {intents}. Don't list any other options.\"\n",
                "intent = generate_content(option_prompt, max_tokens=100)\n",
                "print(\"Selected intent:\")\n",
                "print(intent)"
            ]
        },
        {
            "cell_type": "code",
            "execution_count": null,
            "metadata": {},
            "outputs": [],
            "source": [
                "# Step 8: Generate a response based on the selected intent\n",
                "language = \"Reply in the same language as the incoming email\"\n",
                "response_prompt = f\"Generate a polite and professional reply to the following email: {incoming_email}\\nAnalysis: {analysis}\\n Use following Intent: {intent}.\\n {language}\"\n",
                "response = generate_content(response_prompt, max_tokens=500)\n",
                "print(\"Generated Response:\")\n",
                "print(response)"
            ]
        },
        {
            "cell_type": "code",
            "execution_count": null,
            "metadata": {},
            "outputs": [],
            "source": [
                "# Step 9: Refine and proofread the generated response\n",
                "tone = \"Keep it short and casual.\"\n",
                "language = \"Reply in the same language as the incoming email\"\n",
                "refine_prompt = f\"Refine and proofread the following email reply: {response}\\n{tone}.\\n {language}\"\n",
                "refined_response = generate_content(refine_prompt, max_tokens=150)\n",
                "print(\"Refined Response:\")\n",
                "print(refined_response)"
            ]
        }
    ],
    "metadata": {
        "kernelspec": {
            "display_name": "Python 3",
            "language": "python",
            "name": "python3"
        },
        "language_info": {
            "codemirror_mode": {
                "name": "ipython",
                "version": 3
            },
            "file_extension": ".py",
            "mimetype": "text/x-python",
            "name": "python",
            "nbconvert_exporter": "python",
            "pygments_lexer": "ipython3",
            "version": "3.8.5"
        }
    },
    "nbformat": 4,
    "nbformat_minor": 4
}
