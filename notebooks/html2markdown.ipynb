{
 "cells": [
  {
   "cell_type": "markdown",
   "metadata": {},
   "source": [
    "# HTML to Markdown Converter\n",
    "\n",
    "This script converts an HTML page into Markdown format using Python. It utilizes the `beautifulsoup4` library to parse the HTML content and the `markdownify` library to convert the HTML content to Markdown.\n",
    "\n",
    "## Requirements\n",
    "\n",
    "Ensure you have the following libraries installed:\n",
    "\n",
    "```bash\n",
    "pip install beautifulsoup4 markdownify requests"
   ]
  },
  {
   "cell_type": "code",
   "execution_count": null,
   "metadata": {},
   "outputs": [],
   "source": [
    "# Install required packages\n",
    "%pip install requests beautifulsoup4 markdownify"
   ]
  },
  {
   "cell_type": "code",
   "execution_count": null,
   "metadata": {},
   "outputs": [],
   "source": [
    "# Import Necessary Libraries\n",
    "import requests\n",
    "from bs4 import BeautifulSoup\n",
    "from markdownify import markdownify as md"
   ]
  },
  {
   "cell_type": "code",
   "execution_count": null,
   "metadata": {},
   "outputs": [],
   "source": [
    "# Define Helper Functions\n",
    "# HTML to Markdown Conversion Function\n",
    "def html_to_markdown(html_content):\n",
    "    \"\"\"\n",
    "    Converts HTML content to Markdown format.\n",
    "\n",
    "    Parameters:\n",
    "        html_content (str): The HTML content as a string.\n",
    "\n",
    "    Returns:\n",
    "        str: The converted Markdown content.\n",
    "    \"\"\"\n",
    "    soup = BeautifulSoup(html_content, 'html.parser')\n",
    "    markdown_content = md(str(soup))\n",
    "    return markdown_content"
   ]
  },
  {
   "cell_type": "code",
   "execution_count": null,
   "metadata": {},
   "outputs": [],
   "source": [
    "# Fetch HTML Content Function\n",
    "def fetch_html(url):\n",
    "    \"\"\"\n",
    "    Fetches HTML content from a given URL.\n",
    "\n",
    "    Parameters:\n",
    "        url (str): The URL of the HTML page.\n",
    "\n",
    "    Returns:\n",
    "        str: The HTML content as a string.\n",
    "    \"\"\"\n",
    "    response = requests.get(url)\n",
    "    response.raise_for_status()\n",
    "    return response.text"
   ]
  },
  {
   "cell_type": "code",
   "execution_count": null,
   "metadata": {},
   "outputs": [],
   "source": [
    "# Read HTML Content from Local File Function\n",
    "def read_html_file(file_path):\n",
    "    \"\"\"\n",
    "    Reads HTML content from a local file.\n",
    "\n",
    "    Parameters:\n",
    "        file_path (str): The path to the local HTML file.\n",
    "\n",
    "    Returns:\n",
    "        str: The HTML content as a string.\n",
    "    \"\"\"\n",
    "    with open(file_path, 'r', encoding='utf-8') as file:\n",
    "        return file.read()"
   ]
  },
  {
   "cell_type": "code",
   "execution_count": null,
   "metadata": {},
   "outputs": [],
   "source": [
    "# Save Content to File Function\n",
    "def save_to_file(content, filename):\n",
    "    \"\"\"\n",
    "    Saves content to a file.\n",
    "\n",
    "    Parameters:\n",
    "        content (str): The content to save.\n",
    "        filename (str): The name of the file to save the content.\n",
    "    \"\"\"\n",
    "    with open(filename, 'w', encoding='utf-8') as file:\n",
    "        file.write(content)"
   ]
  },
  {
   "cell_type": "code",
   "execution_count": null,
   "metadata": {},
   "outputs": [],
   "source": [
    "def main(source, source_type):\n",
    "    \"\"\"\n",
    "    Main function to convert an HTML page to Markdown.\n",
    "\n",
    "    Parameters:\n",
    "        source (str): The source URL or file path of the HTML content.\n",
    "        source_type (str): The type of the source - 'url' or 'file'.\n",
    "    \"\"\"\n",
    "    # Fetch or read HTML content based on the source type\n",
    "    if source_type == 'url':\n",
    "        html_content = fetch_html(source)\n",
    "    elif source_type == 'file':\n",
    "        html_content = read_html_file(source)\n",
    "    else:\n",
    "        print(\"Invalid source type. Please choose 'url' or 'file'.\")\n",
    "        return\n",
    "\n",
    "    # Convert HTML content to Markdown\n",
    "    markdown_content = html_to_markdown(html_content)\n",
    "\n",
    "    # Print the Markdown content\n",
    "    print(\"Markdown Content:\\n=================================================\\n\")\n",
    "    print(markdown_content)\n",
    "\n",
    "    # Save Markdown content to a file\n",
    "    output_filename = 'output.md'\n",
    "    save_to_file(markdown_content, output_filename)\n",
    "\n",
    "    print(f'\\n\\n=================================================\\nMarkdown content saved to {output_filename}')\n"
   ]
  },
  {
   "cell_type": "code",
   "execution_count": null,
   "metadata": {},
   "outputs": [],
   "source": [
    "# Example usage\n",
    "source = 'sample.html'  # or 'path/to/local/example.html'\n",
    "source_type = 'file'  # 'url' or 'file'\n",
    "\n",
    "# Run the main function\n",
    "main(source, source_type)\n"
   ]
  },
  {
   "cell_type": "markdown",
   "metadata": {},
   "source": []
  }
 ],
 "metadata": {
  "kernelspec": {
   "display_name": "Python 3",
   "language": "python",
   "name": "python3"
  },
  "language_info": {
   "codemirror_mode": {
    "name": "ipython",
    "version": 3
   },
   "file_extension": ".py",
   "mimetype": "text/x-python",
   "name": "python",
   "nbconvert_exporter": "python",
   "pygments_lexer": "ipython3",
   "version": "3.12.4"
  }
 },
 "nbformat": 4,
 "nbformat_minor": 2
}
